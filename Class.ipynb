{
 "cells": [
  {
   "cell_type": "code",
   "execution_count": 6,
   "id": "734fa831",
   "metadata": {},
   "outputs": [
    {
     "name": "stdout",
     "output_type": "stream",
     "text": [
      "Pass\n",
      "fail\n"
     ]
    }
   ],
   "source": [
    "class student:\n",
    "    def x(self):\n",
    "        if self.marks >= 40:\n",
    "            return 'Pass'\n",
    "        else:\n",
    "            return 'fail'\n",
    "\n",
    "student1 = student()\n",
    "student1.marks = 80\n",
    "\n",
    "get_score = student1.x()\n",
    "print(get_score)\n",
    "\n",
    "student2 = student()\n",
    "student2.marks = 32\n",
    "\n",
    "get_score_1 = student2.x()\n",
    "print(get_score_1)"
   ]
  },
  {
   "cell_type": "code",
   "execution_count": 9,
   "id": "13d85fb7",
   "metadata": {},
   "outputs": [
    {
     "name": "stdout",
     "output_type": "stream",
     "text": [
      "fail\n"
     ]
    }
   ],
   "source": [
    "class student:\n",
    "    def x(self):\n",
    "        if self.marks >= 40:\n",
    "            return 'Pass'\n",
    "        else:\n",
    "            return 'fail'\n",
    "        \n",
    "    def __init__(self,name,marks):\n",
    "        self.name = name\n",
    "        self.marks = marks\n",
    "        \n",
    "student1 = student(\"raj\", 91)\n",
    "student2 =student('ram',34)\n",
    "\n",
    "get_grade = student2.x()\n",
    "print(get_grade)"
   ]
  },
  {
   "cell_type": "code",
   "execution_count": null,
   "id": "86dc9655",
   "metadata": {},
   "outputs": [],
   "source": []
  },
  {
   "cell_type": "code",
   "execution_count": 5,
   "id": "6e408ad6",
   "metadata": {},
   "outputs": [
    {
     "name": "stdout",
     "output_type": "stream",
     "text": [
      "-5 9\n"
     ]
    }
   ],
   "source": [
    "class complex:\n",
    "    def __init__(self,real,imag):\n",
    "        self.real = real\n",
    "        self.imag = imag\n",
    "    \n",
    "    def add(self,number):\n",
    "        real = -self.real+number.real\n",
    "        imag = self.imag+number.imag\n",
    "        result = complex(real,imag)\n",
    "        return result\n",
    "    \n",
    "n1 = complex(3,4)\n",
    "n2 = complex(-2,5)\n",
    "\n",
    "result = n1.add(n2)\n",
    "print(result.real, result.imag)"
   ]
  },
  {
   "cell_type": "code",
   "execution_count": 10,
   "id": "1efa1f90",
   "metadata": {},
   "outputs": [
    {
     "data": {
      "text/plain": [
       "12"
      ]
     },
     "execution_count": 10,
     "metadata": {},
     "output_type": "execute_result"
    }
   ],
   "source": [
    "class triangle:\n",
    "    def __init__(self,x,y,z):\n",
    "        self.x = x\n",
    "        self.y = y\n",
    "        self.z = z\n",
    "    def perimeter(self,side):\n",
    "        result = side.x+side.y+side.z\n",
    "        return result\n",
    "tri = triangle(3,4,5)\n",
    "result = tri.perimeter(tri)\n",
    "result"
   ]
  },
  {
   "cell_type": "code",
   "execution_count": null,
   "id": "c5053ae2",
   "metadata": {},
   "outputs": [],
   "source": []
  }
 ],
 "metadata": {
  "kernelspec": {
   "display_name": "Python 3 (ipykernel)",
   "language": "python",
   "name": "python3"
  },
  "language_info": {
   "codemirror_mode": {
    "name": "ipython",
    "version": 3
   },
   "file_extension": ".py",
   "mimetype": "text/x-python",
   "name": "python",
   "nbconvert_exporter": "python",
   "pygments_lexer": "ipython3",
   "version": "3.8.10"
  }
 },
 "nbformat": 4,
 "nbformat_minor": 5
}
